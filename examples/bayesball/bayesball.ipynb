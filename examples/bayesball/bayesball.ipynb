{
 "cells": [
  {
   "cell_type": "markdown",
   "metadata": {},
   "source": [
    "# Implement Brown (2008)'s baseball example"
   ]
  },
  {
   "cell_type": "code",
   "execution_count": 1,
   "metadata": {
    "collapsed": true
   },
   "outputs": [],
   "source": [
    "WDIR = 'C:/Users/billt/PycharmProjects/KW_NPEB/examples/bayesball/'\n",
    "import os\n",
    "os.chdir(WDIR)"
   ]
  },
  {
   "cell_type": "code",
   "execution_count": 2,
   "metadata": {
    "collapsed": true
   },
   "outputs": [],
   "source": [
    "import numpy as np\n",
    "import pandas as pd\n",
    "from utils.utils import *\n",
    "\n",
    "from kw_mle.kw_mle import KWMLE"
   ]
  },
  {
   "cell_type": "markdown",
   "metadata": {},
   "source": [
    "## Preprocessing"
   ]
  },
  {
   "cell_type": "code",
   "execution_count": 3,
   "metadata": {},
   "outputs": [],
   "source": [
    "DATA_PATH = 'D:/py_projects/npeb/MAP/data/brown_2008.csv'\n",
    "df_raw = pd.read_csv(DATA_PATH)\n",
    "\n",
    "train, test = get_train_test(df_raw)\n",
    "train_label = variance_stabilizing(train['H'].values, train['AB'].values)\n",
    "test_label = variance_stabilizing(test['H'].values, test['AB'].values)\n",
    "std_train = 1/(2*np.sqrt(train['AB'].values))\n",
    "std_test = 1/(2*np.sqrt(test['AB'].values))"
   ]
  },
  {
   "cell_type": "markdown",
   "metadata": {},
   "source": [
    "## Fit the model"
   ]
  },
  {
   "cell_type": "code",
   "execution_count": 4,
   "metadata": {},
   "outputs": [
    {
     "name": "stdout",
     "output_type": "stream",
     "text": [
      "11\n"
     ]
    }
   ],
   "source": [
    "kw_mle = KWMLE(train_label, stds=std_train)\n",
    "kw_mle.fit()"
   ]
  },
  {
   "cell_type": "markdown",
   "metadata": {},
   "source": [
    "## Make the comparison with the naive estimator and James-Stein estimator."
   ]
  },
  {
   "cell_type": "code",
   "execution_count": 5,
   "metadata": {
    "collapsed": true
   },
   "outputs": [],
   "source": [
    "naive_pred_raw = pd.DataFrame(train_label, index=train.index)\n",
    "npeb_pred_raw = pd.DataFrame(kw_mle.prediction(train_label, std_train), index=train.index)\n",
    "js_pred_raw = pd.DataFrame(james_stein_prediction(train_label, std_train), index=train.index)\n",
    "\n",
    "naive_pred = naive_pred_raw.loc[test.index]\n",
    "npeb_pred = npeb_pred_raw.loc[test.index]\n",
    "js_pred = js_pred_raw.loc[test.index]"
   ]
  },
  {
   "cell_type": "code",
   "execution_count": 6,
   "metadata": {},
   "outputs": [
    {
     "name": "stdout",
     "output_type": "stream",
     "text": [
      "relative total squared error of nonparametric empirical Bayes:  0.6874632544417727\n",
      "relative total squared error of James-Stein estimator:  0.5350256561846592\n"
     ]
    }
   ],
   "source": [
    "tse_naive = tse(np.array(test_label), np.array(naive_pred).flatten(), std_test)\n",
    "tse_npeb = tse(np.array(test_label), np.array(npeb_pred).flatten(), std_test)\n",
    "tse_js = tse(np.array(test_label), np.array(js_pred).flatten(), std_test)\n",
    "\n",
    "print(\"relative total squared error of nonparametric empirical Bayes: \", tse_npeb/tse_naive)\n",
    "print(\"relative total squared error of James-Stein estimator: \", tse_js/tse_naive)"
   ]
  }
 ],
 "metadata": {
  "kernelspec": {
   "display_name": "Python 3",
   "language": "python",
   "name": "python3"
  },
  "language_info": {
   "codemirror_mode": {
    "name": "ipython",
    "version": 3
   },
   "file_extension": ".py",
   "mimetype": "text/x-python",
   "name": "python",
   "nbconvert_exporter": "python",
   "pygments_lexer": "ipython3",
   "version": "3.6.8"
  }
 },
 "nbformat": 4,
 "nbformat_minor": 2
}
