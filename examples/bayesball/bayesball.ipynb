{
 "cells": [
  {
   "cell_type": "markdown",
   "metadata": {},
   "source": [
    "# Implement Brown (2008)'s baseball example"
   ]
  },
  {
   "cell_type": "code",
   "execution_count": 12,
   "metadata": {
    "collapsed": true
   },
   "outputs": [],
   "source": [
    "import numpy as np\n",
    "import pandas as pd\n",
    "\n",
    "from kw_mle.kw_mle import KWMLE"
   ]
  },
  {
   "cell_type": "code",
   "execution_count": 13,
   "metadata": {
    "collapsed": true
   },
   "outputs": [],
   "source": [
    "DATA_PATH = 'D:/py_projects/npeb/MAP/data/brown_2008.csv'\n",
    "df_raw = pd.read_csv(DATA_PATH)"
   ]
  },
  {
   "cell_type": "markdown",
   "metadata": {},
   "source": [
    "## Preprocessing"
   ]
  },
  {
   "cell_type": "code",
   "execution_count": 14,
   "metadata": {},
   "outputs": [],
   "source": [
    "def get_train_test(df_raw):\n",
    "    MIN_NUM_AB = 10\n",
    "    ab_s1 = df_raw.iloc[:, [4, 5, 6]]\n",
    "    s1_bool = ab_s1.sum(axis=1) > MIN_NUM_AB\n",
    "    train_df = df_raw[s1_bool]\n",
    "\n",
    "    ab_s2 = df_raw.iloc[:, [7, 8, 9]]\n",
    "    s2_bool = ab_s2.sum(axis=1) > MIN_NUM_AB\n",
    "    test_df = df_raw[s1_bool & s2_bool]\n",
    "\n",
    "    train = train_df[['First Name', 'Last Name', 'AB(4)', 'AB(5)', 'AB(6)', 'H(4)', 'H(5)', 'H(6)']].copy()\n",
    "    test = test_df[['First Name', 'Last Name', 'AB(7)', 'AB(8)', 'AB(9-10)', 'H(7)', 'H(8)', 'H(9-10)']].copy()\n",
    "\n",
    "    train['AB'] = train[['AB(4)', 'AB(5)', 'AB(6)']].sum(axis=1)\n",
    "    train['H'] = train[['H(4)', 'H(5)', 'H(6)']].sum(axis=1)\n",
    "    test['AB'] = test[['AB(7)', 'AB(8)', 'AB(9-10)']].sum(axis=1)\n",
    "    test['H'] = test[['H(7)', 'H(8)', 'H(9-10)']].sum(axis=1)\n",
    "\n",
    "    return train, test\n",
    "\n",
    "train, test = get_train_test(df_raw)"
   ]
  },
  {
   "cell_type": "code",
   "execution_count": 15,
   "metadata": {
    "collapsed": true
   },
   "outputs": [],
   "source": [
    "def variance_stabilizing(num_hit, num_ab):\n",
    "    \"\"\"\n",
    "    A variance stabilizing transformation stated in Brown (2008)\n",
    "    \"\"\"\n",
    "    return np.arcsin(np.sqrt((num_hit + 1 / 4) / (num_ab + 1 / 2)))\n",
    "\n",
    "train_label = variance_stabilizing(train['H'].values, train['AB'].values)\n",
    "test_label = variance_stabilizing(test['H'].values, test['AB'].values)\n",
    "std_train = 1/(2*np.sqrt(train['AB'].values))\n",
    "std_test = 1/(2*np.sqrt(test['AB'].values))"
   ]
  },
  {
   "cell_type": "markdown",
   "metadata": {},
   "source": [
    "## Fit the model"
   ]
  },
  {
   "cell_type": "code",
   "execution_count": 16,
   "metadata": {},
   "outputs": [
    {
     "name": "stdout",
     "output_type": "stream",
     "text": [
      "11\n"
     ]
    }
   ],
   "source": [
    "kw_mle = KWMLE(train_label, stds=std_train)\n",
    "kw_mle.fit()"
   ]
  },
  {
   "cell_type": "markdown",
   "metadata": {},
   "source": [
    "## Make the comparison with the naive estimator and James-Stein estimator."
   ]
  },
  {
   "cell_type": "code",
   "execution_count": 17,
   "metadata": {
    "collapsed": true
   },
   "outputs": [],
   "source": [
    "def tse(truth, pred, std):\n",
    "    \"\"\"\n",
    "    Total squared error (Brown, 2008)\n",
    "    \"\"\"\n",
    "    return sum((truth - pred) ** 2) - sum(std ** 2)"
   ]
  },
  {
   "cell_type": "code",
   "execution_count": 18,
   "metadata": {
    "collapsed": true
   },
   "outputs": [],
   "source": [
    "def james_stein_prediction(y, std):\n",
    "    \"\"\"\n",
    "    Heterogeneous James Stein estimator (Brown, 2008, page 20)\n",
    "    \"\"\"\n",
    "    w = (1 / (std ** 2)) / sum((1 / std) ** 2)\n",
    "    wlse = [sum(w * y)] * len(y)\n",
    "    S = sum(((y - wlse) / std) ** 2)\n",
    "    return wlse + (1 - (len(y) - 3) / S) * (y - wlse)"
   ]
  },
  {
   "cell_type": "code",
   "execution_count": 19,
   "metadata": {
    "collapsed": true
   },
   "outputs": [],
   "source": [
    "naive_pred_raw = pd.DataFrame(train_label, index=train.index)\n",
    "npeb_pred_raw = pd.DataFrame(kw_mle.prediction(train_label, std_train), index=train.index)\n",
    "js_pred_raw = pd.DataFrame(james_stein_prediction(train_label, std_train), index=train.index)\n",
    "\n",
    "naive_pred = naive_pred_raw.loc[test.index]\n",
    "npeb_pred = npeb_pred_raw.loc[test.index]\n",
    "js_pred = js_pred_raw.loc[test.index]"
   ]
  },
  {
   "cell_type": "code",
   "execution_count": 20,
   "metadata": {},
   "outputs": [
    {
     "name": "stdout",
     "output_type": "stream",
     "text": [
      "relative total squared error of nonparametric empirical Bayes:  0.6874632544417437\n",
      "relative total squared error of James-Stein estimator:  0.5350256561846592\n"
     ]
    }
   ],
   "source": [
    "tse_naive = tse(np.array(test_label), np.array(naive_pred).flatten(), std_test)\n",
    "tse_npeb = tse(np.array(test_label), np.array(npeb_pred).flatten(), std_test)\n",
    "tse_js = tse(np.array(test_label), np.array(js_pred).flatten(), std_test)\n",
    "\n",
    "print(\"relative total squared error of nonparametric empirical Bayes: \", tse_npeb/tse_naive)\n",
    "print(\"relative total squared error of James-Stein estimator: \", tse_js/tse_naive)"
   ]
  }
 ],
 "metadata": {
  "kernelspec": {
   "display_name": "Python 3",
   "language": "python",
   "name": "python3"
  },
  "language_info": {
   "codemirror_mode": {
    "name": "ipython",
    "version": 3
   },
   "file_extension": ".py",
   "mimetype": "text/x-python",
   "name": "python",
   "nbconvert_exporter": "python",
   "pygments_lexer": "ipython3",
   "version": "3.6.8"
  }
 },
 "nbformat": 4,
 "nbformat_minor": 2
}
